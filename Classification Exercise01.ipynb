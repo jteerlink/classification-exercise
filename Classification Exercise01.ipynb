{
 "cells": [
  {
   "cell_type": "code",
   "execution_count": 2,
   "metadata": {},
   "outputs": [],
   "source": [
    "import pandas as pd\n",
    "import numpy as np\n",
    "import matplotlib.pyplot as plt"
   ]
  },
  {
   "cell_type": "code",
   "execution_count": 3,
   "metadata": {},
   "outputs": [],
   "source": [
    "train = pd.read_csv('data/exercise_01_train.csv')\n",
    "test = pd.read_csv('data/exercise_01_test.csv')"
   ]
  },
  {
   "cell_type": "code",
   "execution_count": 187,
   "metadata": {},
   "outputs": [
    {
     "data": {
      "text/plain": [
       "768"
      ]
     },
     "execution_count": 187,
     "metadata": {},
     "output_type": "execute_result"
    }
   ],
   "source": [
    "train.isnull().sum(axis=1).sum()\n",
    "\n",
    "# for x in row_null_count[row_null_count>=1]:\n",
    "#     print(x)\n",
    "\n",
    "# for i in row_null_count:\n",
    "#     print(i)"
   ]
  },
  {
   "cell_type": "code",
   "execution_count": 5,
   "metadata": {},
   "outputs": [
    {
     "data": {
      "text/plain": [
       "str"
      ]
     },
     "execution_count": 5,
     "metadata": {},
     "output_type": "execute_result"
    }
   ],
   "source": [
    "type(train.x45[0])\n"
   ]
  },
  {
   "cell_type": "code",
   "execution_count": 6,
   "metadata": {},
   "outputs": [
    {
     "data": {
      "text/plain": [
       "5"
      ]
     },
     "execution_count": 6,
     "metadata": {},
     "output_type": "execute_result"
    }
   ],
   "source": [
    "train.x45 = train.x45.str.strip('%')\n",
    "train.x45 = train.x45.astype(float)\n",
    "train.x45.isnull().sum()\n",
    "\n",
    "\n",
    "        "
   ]
  },
  {
   "cell_type": "code",
   "execution_count": 7,
   "metadata": {},
   "outputs": [
    {
     "data": {
      "text/plain": [
       "numpy.float64"
      ]
     },
     "execution_count": 7,
     "metadata": {},
     "output_type": "execute_result"
    }
   ],
   "source": [
    "train.x41= train.x41.str.strip('$').astype(float)\n",
    "type(train.x45[0])"
   ]
  },
  {
   "cell_type": "code",
   "execution_count": 8,
   "metadata": {},
   "outputs": [
    {
     "name": "stdout",
     "output_type": "stream",
     "text": [
      "nan\n",
      "chrystler\n",
      "ford\n",
      "tesla\n",
      "nissan\n",
      "bmw\n",
      "Toyota\n",
      "volkswagon\n",
      "Honda\n",
      "mercades\n",
      "chevrolet\n"
     ]
    }
   ],
   "source": [
    "x34_values = set(train.x34)\n",
    "for i in x34_values:\n",
    "    print(i)\n",
    "    \n",
    "# train[train.x34.isnull()]\n",
    "\n",
    "train['x34'].replace(to_replace='mercades',value='mercedes',inplace=True)\n",
    "train.x34 = train['x34'].str.lower()"
   ]
  },
  {
   "cell_type": "code",
   "execution_count": 9,
   "metadata": {},
   "outputs": [
    {
     "data": {
      "text/html": [
       "<div>\n",
       "<style scoped>\n",
       "    .dataframe tbody tr th:only-of-type {\n",
       "        vertical-align: middle;\n",
       "    }\n",
       "\n",
       "    .dataframe tbody tr th {\n",
       "        vertical-align: top;\n",
       "    }\n",
       "\n",
       "    .dataframe thead th {\n",
       "        text-align: right;\n",
       "    }\n",
       "</style>\n",
       "<table border=\"1\" class=\"dataframe\">\n",
       "  <thead>\n",
       "    <tr style=\"text-align: right;\">\n",
       "      <th></th>\n",
       "      <th>x34</th>\n",
       "    </tr>\n",
       "    <tr>\n",
       "      <th>x34</th>\n",
       "      <th></th>\n",
       "    </tr>\n",
       "  </thead>\n",
       "  <tbody>\n",
       "    <tr>\n",
       "      <th>bmw</th>\n",
       "      <td>7304</td>\n",
       "    </tr>\n",
       "    <tr>\n",
       "      <th>chevrolet</th>\n",
       "      <td>11</td>\n",
       "    </tr>\n",
       "    <tr>\n",
       "      <th>chrystler</th>\n",
       "      <td>1223</td>\n",
       "    </tr>\n",
       "    <tr>\n",
       "      <th>ford</th>\n",
       "      <td>165</td>\n",
       "    </tr>\n",
       "    <tr>\n",
       "      <th>honda</th>\n",
       "      <td>5129</td>\n",
       "    </tr>\n",
       "    <tr>\n",
       "      <th>mercedes</th>\n",
       "      <td>32</td>\n",
       "    </tr>\n",
       "    <tr>\n",
       "      <th>nissan</th>\n",
       "      <td>336</td>\n",
       "    </tr>\n",
       "    <tr>\n",
       "      <th>tesla</th>\n",
       "      <td>2275</td>\n",
       "    </tr>\n",
       "    <tr>\n",
       "      <th>toyota</th>\n",
       "      <td>10946</td>\n",
       "    </tr>\n",
       "    <tr>\n",
       "      <th>volkswagon</th>\n",
       "      <td>12572</td>\n",
       "    </tr>\n",
       "  </tbody>\n",
       "</table>\n",
       "</div>"
      ],
      "text/plain": [
       "              x34\n",
       "x34              \n",
       "bmw          7304\n",
       "chevrolet      11\n",
       "chrystler    1223\n",
       "ford          165\n",
       "honda        5129\n",
       "mercedes       32\n",
       "nissan        336\n",
       "tesla        2275\n",
       "toyota      10946\n",
       "volkswagon  12572"
      ]
     },
     "execution_count": 9,
     "metadata": {},
     "output_type": "execute_result"
    }
   ],
   "source": [
    "brand_count = pd.DataFrame(train.x34.groupby(train.x34).count())\n",
    "brand_count"
   ]
  },
  {
   "cell_type": "code",
   "execution_count": 10,
   "metadata": {},
   "outputs": [
    {
     "data": {
      "text/plain": [
       "<matplotlib.axes._subplots.AxesSubplot at 0x8d96630>"
      ]
     },
     "execution_count": 10,
     "metadata": {},
     "output_type": "execute_result"
    },
    {
     "data": {
      "image/png": "[encoded data removed]",
      "text/plain": [
       "<Figure size 432x288 with 1 Axes>"
      ]
     },
     "metadata": {
      "needs_background": "light"
     },
     "output_type": "display_data"
    }
   ],
   "source": [
    "brand_count.plot.bar()"
   ]
  },
  {
   "cell_type": "code",
   "execution_count": 11,
   "metadata": {},
   "outputs": [
    {
     "name": "stdout",
     "output_type": "stream",
     "text": [
      "nan\n",
      "fri\n",
      "wednesday\n",
      "wed\n",
      "thur\n",
      "friday\n",
      "monday\n",
      "tuesday\n",
      "thurday\n"
     ]
    }
   ],
   "source": [
    "x35_values = set(train.x35)\n",
    "for i in x35_values:\n",
    "    print(i)\n",
    "    \n",
    "train[train.x35.isnull()]\n",
    "\n",
    "train.x35.replace('wed','wednesday',inplace=True)\n",
    "train.x35.replace('fri','friday',inplace=True)\n",
    "train.x35.replace('thur','thursday',inplace=True)\n",
    "train.x35.replace('thurday','thursday',inplace=True)"
   ]
  },
  {
   "cell_type": "code",
   "execution_count": 12,
   "metadata": {},
   "outputs": [
    {
     "data": {
      "text/plain": [
       "<matplotlib.axes._subplots.AxesSubplot at 0x6955fd0>"
      ]
     },
     "execution_count": 12,
     "metadata": {},
     "output_type": "execute_result"
    },
    {
     "data": {
      "image/png": "[encoded data removed]",
      "text/plain": [
       "<Figure size 432x288 with 1 Axes>"
      ]
     },
     "metadata": {
      "needs_background": "light"
     },
     "output_type": "display_data"
    }
   ],
   "source": [
    "day_count = pd.DataFrame(train.x35.groupby(train.x35).count())\n",
    "day_count.plot.bar()\n",
    "\n",
    "# plt.bar(x35_values,train.x35)\n",
    "\n"
   ]
  },
  {
   "cell_type": "code",
   "execution_count": 13,
   "metadata": {},
   "outputs": [
    {
     "name": "stdout",
     "output_type": "stream",
     "text": [
      "nan\n",
      "May\n",
      "Feb\n",
      "Aug\n",
      "Apr\n",
      "Mar\n",
      "sept.\n",
      "Oct\n",
      "Dev\n",
      "July\n",
      "January\n",
      "Jun\n",
      "Nov\n"
     ]
    }
   ],
   "source": [
    "x68_values = set(train.x68)\n",
    "for i in x68_values:\n",
    "    print(i)\n",
    "    \n",
    "# train[train.x68.isnull()]\n",
    "\n",
    "train.x68 = train.x68.str.lower()"
   ]
  },
  {
   "cell_type": "code",
   "execution_count": 14,
   "metadata": {},
   "outputs": [],
   "source": [
    "def clean(original,new):\n",
    "    train.x68.replace(original,new,inplace=True)\n",
    "\n",
    "dict = { 'sept.':'sep','july':'jul','january':'jan','dev':'dec'}\n",
    "\n",
    "\n",
    "for key,value in dict.items():\n",
    "    clean(key,value)\n",
    "    \n",
    "    "
   ]
  },
  {
   "cell_type": "code",
   "execution_count": 15,
   "metadata": {},
   "outputs": [
    {
     "data": {
      "text/plain": [
       "<matplotlib.axes._subplots.AxesSubplot at 0x92256a0>"
      ]
     },
     "execution_count": 15,
     "metadata": {},
     "output_type": "execute_result"
    },
    {
     "data": {
      "image/png": "[encoded data removed]",
      "text/plain": [
       "<Figure size 432x288 with 1 Axes>"
      ]
     },
     "metadata": {
      "needs_background": "light"
     },
     "output_type": "display_data"
    }
   ],
   "source": [
    "month_count = pd.DataFrame(train.x68.groupby(train.x68).count())\n",
    "month_count.plot.bar()"
   ]
  },
  {
   "cell_type": "code",
   "execution_count": 16,
   "metadata": {},
   "outputs": [
    {
     "name": "stdout",
     "output_type": "stream",
     "text": [
      "nan\n",
      "america\n",
      "asia\n",
      "euorpe\n"
     ]
    },
    {
     "data": {
      "text/html": [
       "<div>\n",
       "<style scoped>\n",
       "    .dataframe tbody tr th:only-of-type {\n",
       "        vertical-align: middle;\n",
       "    }\n",
       "\n",
       "    .dataframe tbody tr th {\n",
       "        vertical-align: top;\n",
       "    }\n",
       "\n",
       "    .dataframe thead th {\n",
       "        text-align: right;\n",
       "    }\n",
       "</style>\n",
       "<table border=\"1\" class=\"dataframe\">\n",
       "  <thead>\n",
       "    <tr style=\"text-align: right;\">\n",
       "      <th></th>\n",
       "      <th>x0</th>\n",
       "      <th>x1</th>\n",
       "      <th>x2</th>\n",
       "      <th>x3</th>\n",
       "      <th>x4</th>\n",
       "      <th>x5</th>\n",
       "      <th>x6</th>\n",
       "      <th>x7</th>\n",
       "      <th>x8</th>\n",
       "      <th>x9</th>\n",
       "      <th>...</th>\n",
       "      <th>x91</th>\n",
       "      <th>x92</th>\n",
       "      <th>x93</th>\n",
       "      <th>x94</th>\n",
       "      <th>x95</th>\n",
       "      <th>x96</th>\n",
       "      <th>x97</th>\n",
       "      <th>x98</th>\n",
       "      <th>x99</th>\n",
       "      <th>y</th>\n",
       "    </tr>\n",
       "  </thead>\n",
       "  <tbody>\n",
       "    <tr>\n",
       "      <th>1190</th>\n",
       "      <td>14.102454</td>\n",
       "      <td>-7.778600</td>\n",
       "      <td>-30.934854</td>\n",
       "      <td>2.664778</td>\n",
       "      <td>-3.761767</td>\n",
       "      <td>43.259001</td>\n",
       "      <td>0.035681</td>\n",
       "      <td>-0.321342</td>\n",
       "      <td>1.771489</td>\n",
       "      <td>-1.760448</td>\n",
       "      <td>...</td>\n",
       "      <td>4.615243</td>\n",
       "      <td>9.919771</td>\n",
       "      <td>NaN</td>\n",
       "      <td>1.325520</td>\n",
       "      <td>-7.262152</td>\n",
       "      <td>28.174589</td>\n",
       "      <td>-20.912014</td>\n",
       "      <td>-6.849701</td>\n",
       "      <td>-17.078755</td>\n",
       "      <td>0</td>\n",
       "    </tr>\n",
       "    <tr>\n",
       "      <th>14705</th>\n",
       "      <td>-8.284178</td>\n",
       "      <td>-2.392973</td>\n",
       "      <td>-12.819925</td>\n",
       "      <td>13.049623</td>\n",
       "      <td>29.369951</td>\n",
       "      <td>22.358191</td>\n",
       "      <td>0.155678</td>\n",
       "      <td>-2.104340</td>\n",
       "      <td>2.389202</td>\n",
       "      <td>1.620476</td>\n",
       "      <td>...</td>\n",
       "      <td>-0.786748</td>\n",
       "      <td>-0.889252</td>\n",
       "      <td>NaN</td>\n",
       "      <td>-0.683292</td>\n",
       "      <td>9.292395</td>\n",
       "      <td>-3.189367</td>\n",
       "      <td>11.787879</td>\n",
       "      <td>-2.495887</td>\n",
       "      <td>-85.181736</td>\n",
       "      <td>0</td>\n",
       "    </tr>\n",
       "    <tr>\n",
       "      <th>15869</th>\n",
       "      <td>9.497658</td>\n",
       "      <td>-6.553593</td>\n",
       "      <td>29.052088</td>\n",
       "      <td>-2.330712</td>\n",
       "      <td>53.006584</td>\n",
       "      <td>-88.272626</td>\n",
       "      <td>-0.635350</td>\n",
       "      <td>-8.010255</td>\n",
       "      <td>2.244752</td>\n",
       "      <td>1.448200</td>\n",
       "      <td>...</td>\n",
       "      <td>-0.367511</td>\n",
       "      <td>-11.389007</td>\n",
       "      <td>NaN</td>\n",
       "      <td>1.650118</td>\n",
       "      <td>28.725101</td>\n",
       "      <td>26.198905</td>\n",
       "      <td>-4.321887</td>\n",
       "      <td>-5.563469</td>\n",
       "      <td>19.818838</td>\n",
       "      <td>0</td>\n",
       "    </tr>\n",
       "    <tr>\n",
       "      <th>28589</th>\n",
       "      <td>-31.295088</td>\n",
       "      <td>-12.289548</td>\n",
       "      <td>9.833663</td>\n",
       "      <td>-23.675962</td>\n",
       "      <td>24.704858</td>\n",
       "      <td>-61.875248</td>\n",
       "      <td>-0.147033</td>\n",
       "      <td>-0.768154</td>\n",
       "      <td>-0.060544</td>\n",
       "      <td>2.030748</td>\n",
       "      <td>...</td>\n",
       "      <td>9.506384</td>\n",
       "      <td>-11.512334</td>\n",
       "      <td>NaN</td>\n",
       "      <td>-3.631571</td>\n",
       "      <td>5.374785</td>\n",
       "      <td>-3.708129</td>\n",
       "      <td>10.285001</td>\n",
       "      <td>-8.042106</td>\n",
       "      <td>55.961587</td>\n",
       "      <td>1</td>\n",
       "    </tr>\n",
       "    <tr>\n",
       "      <th>32312</th>\n",
       "      <td>-46.029710</td>\n",
       "      <td>16.191556</td>\n",
       "      <td>-10.416816</td>\n",
       "      <td>-11.439568</td>\n",
       "      <td>1.970208</td>\n",
       "      <td>10.010975</td>\n",
       "      <td>0.828236</td>\n",
       "      <td>7.244614</td>\n",
       "      <td>0.131857</td>\n",
       "      <td>0.230516</td>\n",
       "      <td>...</td>\n",
       "      <td>2.073253</td>\n",
       "      <td>5.478556</td>\n",
       "      <td>NaN</td>\n",
       "      <td>-4.577893</td>\n",
       "      <td>13.670185</td>\n",
       "      <td>6.040725</td>\n",
       "      <td>13.331947</td>\n",
       "      <td>-10.836776</td>\n",
       "      <td>-4.427156</td>\n",
       "      <td>0</td>\n",
       "    </tr>\n",
       "    <tr>\n",
       "      <th>32505</th>\n",
       "      <td>10.875367</td>\n",
       "      <td>-2.953988</td>\n",
       "      <td>-12.442346</td>\n",
       "      <td>8.927615</td>\n",
       "      <td>6.930775</td>\n",
       "      <td>-77.871287</td>\n",
       "      <td>0.568914</td>\n",
       "      <td>-2.570744</td>\n",
       "      <td>-3.041102</td>\n",
       "      <td>1.263410</td>\n",
       "      <td>...</td>\n",
       "      <td>-0.742292</td>\n",
       "      <td>-8.004574</td>\n",
       "      <td>NaN</td>\n",
       "      <td>0.035361</td>\n",
       "      <td>-9.141838</td>\n",
       "      <td>12.107513</td>\n",
       "      <td>8.612631</td>\n",
       "      <td>-5.316075</td>\n",
       "      <td>4.546977</td>\n",
       "      <td>0</td>\n",
       "    </tr>\n",
       "    <tr>\n",
       "      <th>35622</th>\n",
       "      <td>-62.674660</td>\n",
       "      <td>-7.198663</td>\n",
       "      <td>23.832088</td>\n",
       "      <td>-10.945275</td>\n",
       "      <td>1.009329</td>\n",
       "      <td>36.893154</td>\n",
       "      <td>-0.794109</td>\n",
       "      <td>2.747645</td>\n",
       "      <td>2.851046</td>\n",
       "      <td>2.107989</td>\n",
       "      <td>...</td>\n",
       "      <td>2.307106</td>\n",
       "      <td>5.948702</td>\n",
       "      <td>NaN</td>\n",
       "      <td>1.638331</td>\n",
       "      <td>41.660181</td>\n",
       "      <td>18.010145</td>\n",
       "      <td>2.328262</td>\n",
       "      <td>-1.231076</td>\n",
       "      <td>32.104193</td>\n",
       "      <td>0</td>\n",
       "    </tr>\n",
       "  </tbody>\n",
       "</table>\n",
       "<p>7 rows × 101 columns</p>\n",
       "</div>"
      ],
      "text/plain": [
       "              x0         x1         x2         x3         x4         x5  \\\n",
       "1190   14.102454  -7.778600 -30.934854   2.664778  -3.761767  43.259001   \n",
       "14705  -8.284178  -2.392973 -12.819925  13.049623  29.369951  22.358191   \n",
       "15869   9.497658  -6.553593  29.052088  -2.330712  53.006584 -88.272626   \n",
       "28589 -31.295088 -12.289548   9.833663 -23.675962  24.704858 -61.875248   \n",
       "32312 -46.029710  16.191556 -10.416816 -11.439568   1.970208  10.010975   \n",
       "32505  10.875367  -2.953988 -12.442346   8.927615   6.930775 -77.871287   \n",
       "35622 -62.674660  -7.198663  23.832088 -10.945275   1.009329  36.893154   \n",
       "\n",
       "             x6        x7        x8        x9 ...       x91        x92  x93  \\\n",
       "1190   0.035681 -0.321342  1.771489 -1.760448 ...  4.615243   9.919771  NaN   \n",
       "14705  0.155678 -2.104340  2.389202  1.620476 ... -0.786748  -0.889252  NaN   \n",
       "15869 -0.635350 -8.010255  2.244752  1.448200 ... -0.367511 -11.389007  NaN   \n",
       "28589 -0.147033 -0.768154 -0.060544  2.030748 ...  9.506384 -11.512334  NaN   \n",
       "32312  0.828236  7.244614  0.131857  0.230516 ...  2.073253   5.478556  NaN   \n",
       "32505  0.568914 -2.570744 -3.041102  1.263410 ... -0.742292  -8.004574  NaN   \n",
       "35622 -0.794109  2.747645  2.851046  2.107989 ...  2.307106   5.948702  NaN   \n",
       "\n",
       "            x94        x95        x96        x97        x98        x99  y  \n",
       "1190   1.325520  -7.262152  28.174589 -20.912014  -6.849701 -17.078755  0  \n",
       "14705 -0.683292   9.292395  -3.189367  11.787879  -2.495887 -85.181736  0  \n",
       "15869  1.650118  28.725101  26.198905  -4.321887  -5.563469  19.818838  0  \n",
       "28589 -3.631571   5.374785  -3.708129  10.285001  -8.042106  55.961587  1  \n",
       "32312 -4.577893  13.670185   6.040725  13.331947 -10.836776  -4.427156  0  \n",
       "32505  0.035361  -9.141838  12.107513   8.612631  -5.316075   4.546977  0  \n",
       "35622  1.638331  41.660181  18.010145   2.328262  -1.231076  32.104193  0  \n",
       "\n",
       "[7 rows x 101 columns]"
      ]
     },
     "execution_count": 16,
     "metadata": {},
     "output_type": "execute_result"
    }
   ],
   "source": [
    "x93_values = set(train.x93)\n",
    "for i in x93_values:\n",
    "    print(i)\n",
    "    \n",
    "train[train.x93.isnull()]"
   ]
  },
  {
   "cell_type": "code",
   "execution_count": 17,
   "metadata": {},
   "outputs": [
    {
     "data": {
      "text/plain": [
       "<matplotlib.axes._subplots.AxesSubplot at 0x692f198>"
      ]
     },
     "execution_count": 17,
     "metadata": {},
     "output_type": "execute_result"
    },
    {
     "data": {
      "image/png": "[encoded data removed]",
      "text/plain": [
       "<Figure size 432x288 with 1 Axes>"
      ]
     },
     "metadata": {
      "needs_background": "light"
     },
     "output_type": "display_data"
    }
   ],
   "source": [
    "country_count = pd.DataFrame(train.x93.groupby(train.x93).count())\n",
    "country_count.plot.bar()"
   ]
  },
  {
   "cell_type": "code",
   "execution_count": 18,
   "metadata": {},
   "outputs": [
    {
     "data": {
      "text/plain": [
       "0.020025"
      ]
     },
     "execution_count": 18,
     "metadata": {},
     "output_type": "execute_result"
    }
   ],
   "source": [
    "train.isnull().sum(axis=1).sum()/train.y.count()\n",
    "\n",
    "# records with missing values ~2%, too many to just delete"
   ]
  },
  {
   "cell_type": "code",
   "execution_count": 19,
   "metadata": {},
   "outputs": [
    {
     "data": {
      "text/plain": [
       "0.201175"
      ]
     },
     "execution_count": 19,
     "metadata": {},
     "output_type": "execute_result"
    }
   ],
   "source": [
    "train.y.sum()/train.y.count()\n",
    "\n",
    "#positive label ratio >5%, would not consider minority class\n",
    "\n"
   ]
  },
  {
   "cell_type": "code",
   "execution_count": 72,
   "metadata": {},
   "outputs": [],
   "source": [
    "# # fill categorical with most common values\n",
    "\n",
    "\n",
    "fill_cat_var = {\n",
    "'x34':'volkswagon',\n",
    "'x35':'wednesday',\n",
    "'x68':'july',\n",
    "'x93':'asia'}\n",
    "\n",
    "\n",
    "for key,value in fill_cat_var.items():\n",
    "    train[key].fillna(value,inplace=True)\n",
    "    \n",
    "    \n"
   ]
  },
  {
   "cell_type": "markdown",
   "metadata": {},
   "source": [
    "# median imputation and setting up dfs for models"
   ]
  },
  {
   "cell_type": "code",
   "execution_count": null,
   "metadata": {},
   "outputs": [],
   "source": [
    "train.fillna(value=np.nan)\n",
    "train_numeric = train.drop(labels = ['x34','x35','x68','x93'],axis=1)"
   ]
  },
  {
   "cell_type": "code",
   "execution_count": 59,
   "metadata": {},
   "outputs": [],
   "source": [
    "from sklearn.impute import SimpleImputer\n",
    "imp_median = SimpleImputer(missing_values=np.nan, strategy='median')\n",
    "\n",
    "train_numeric_imp = pd.DataFrame(imp_median.fit_transform(train_numeric))\n",
    "\n"
   ]
  },
  {
   "cell_type": "code",
   "execution_count": 63,
   "metadata": {},
   "outputs": [],
   "source": [
    "col_old = train_numeric_imp.columns.values.tolist()\n",
    "cols = train_numeric.columns.tolist()\n",
    "\n",
    "col_names = {i: j for i, j in zip(col_old,cols)}\n",
    "\n",
    "train_numeric_imp = train_numeric_imp.rename(mapper=col_names,axis=1)\n",
    "\n"
   ]
  },
  {
   "cell_type": "code",
   "execution_count": null,
   "metadata": {},
   "outputs": [],
   "source": [
    "train_numeric_imp['x34'] = train['x34']\n",
    "train_numeric_imp['x35'] = train['x35']\n",
    "train_numeric_imp['x68'] = train['x68']\n",
    "train_numeric_imp['x93'] = train['x93']\n",
    "\n",
    "train_X = train_numeric_imp.drop(labels = ['y'],axis=1)\n",
    "train_y = train['y']"
   ]
  },
  {
   "cell_type": "code",
   "execution_count": null,
   "metadata": {},
   "outputs": [],
   "source": [
    "for col in train_X.columns:\n",
    "    if(train_X[col].dtype == 'object'):\n",
    "        train_X[col]= train_X[col].astype('category')\n",
    "        train_X[col] = train_X[col].cat.codes"
   ]
  },
  {
   "cell_type": "code",
   "execution_count": null,
   "metadata": {},
   "outputs": [],
   "source": []
  },
  {
   "cell_type": "markdown",
   "metadata": {},
   "source": [
    "## Model 1: Logistic Regression"
   ]
  },
  {
   "cell_type": "code",
   "execution_count": 135,
   "metadata": {},
   "outputs": [
    {
     "name": "stderr",
     "output_type": "stream",
     "text": [
      "c:\\Anaconda\\lib\\site-packages\\sklearn\\preprocessing\\data.py:625: DataConversionWarning: Data with input dtype int8, float64 were all converted to float64 by StandardScaler.\n",
      "  return self.partial_fit(X, y)\n",
      "c:\\Anaconda\\lib\\site-packages\\ipykernel_launcher.py:4: DataConversionWarning: Data with input dtype int8, float64 were all converted to float64 by StandardScaler.\n",
      "  after removing the cwd from sys.path.\n"
     ]
    }
   ],
   "source": [
    "# from sklearn.preprocessing import StandardScaler\n",
    "# scaler = StandardScaler()\n",
    "# scaler.fit(train_X)  \n",
    "# train_X_scaled = scaler.transform(train_X)\n",
    "# # X_test = scaler.transform(X_test)"
   ]
  },
  {
   "cell_type": "code",
   "execution_count": 141,
   "metadata": {},
   "outputs": [],
   "source": [
    "from sklearn.linear_model import LogisticRegressionCV\n",
    "\n",
    "logit = LogisticRegressionCV(cv=5,n_jobs=-1,max_iter=20000,refit=True).fit(train_X,train_y)\n",
    "\n",
    "#"
   ]
  },
  {
   "cell_type": "code",
   "execution_count": 142,
   "metadata": {},
   "outputs": [
    {
     "data": {
      "text/plain": [
       "0.892725"
      ]
     },
     "execution_count": 142,
     "metadata": {},
     "output_type": "execute_result"
    }
   ],
   "source": [
    "predict = logit.predict_proba(train_X)\n",
    "\n",
    "logit.score(train_X,train_y)"
   ]
  },
  {
   "cell_type": "code",
   "execution_count": 143,
   "metadata": {},
   "outputs": [
    {
     "data": {
      "text/plain": [
       "array([0., 0., 0., ..., 0., 0., 1.])"
      ]
     },
     "execution_count": 143,
     "metadata": {},
     "output_type": "execute_result"
    }
   ],
   "source": [
    "predict_binary = logit.predict(train_X)\n",
    "predict_binary"
   ]
  },
  {
   "cell_type": "code",
   "execution_count": 144,
   "metadata": {},
   "outputs": [
    {
     "data": {
      "text/plain": [
       "0.7886054242609992"
      ]
     },
     "execution_count": 144,
     "metadata": {},
     "output_type": "execute_result"
    }
   ],
   "source": [
    "from sklearn.metrics import roc_auc_score\n",
    "roc_auc_score(train_y, predict_binary)"
   ]
  },
  {
   "cell_type": "code",
   "execution_count": 155,
   "metadata": {},
   "outputs": [
    {
     "data": {
      "text/plain": [
       "0.5729348197672821"
      ]
     },
     "execution_count": 155,
     "metadata": {},
     "output_type": "execute_result"
    }
   ],
   "source": [
    "average_precision_score(train_y, predict_binary)"
   ]
  },
  {
   "cell_type": "markdown",
   "metadata": {},
   "source": [
    "# Model 2: RandomForest Classifier"
   ]
  },
  {
   "cell_type": "code",
   "execution_count": 99,
   "metadata": {},
   "outputs": [],
   "source": [
    "from sklearn.model_selection import RandomizedSearchCV\n",
    "\n",
    "# Number of trees in random forest\n",
    "n_estimators = [500,600,700,800]\n",
    "# Number of features to consider at every split\n",
    "max_features = ['auto', 'sqrt']\n",
    "# Maximum number of levels in tree\n",
    "max_depth = [int(x) for x in np.linspace(10, 50, num = 5)]\n",
    "max_depth.append(None)\n",
    "# Minimum number of samples required to split a node\n",
    "min_samples_split = [2, 5, 10]\n",
    "# Minimum number of samples required at each leaf node\n",
    "min_samples_leaf = [1, 2, 4]\n",
    "\n",
    "# Create the random grid\n",
    "random_grid = {'n_estimators': n_estimators,\n",
    "               'max_features': max_features,\n",
    "               'max_depth': max_depth,\n",
    "               'min_samples_split': min_samples_split,\n",
    "               'min_samples_leaf': min_samples_leaf\n",
    "               }"
   ]
  },
  {
   "cell_type": "code",
   "execution_count": 100,
   "metadata": {},
   "outputs": [
    {
     "name": "stdout",
     "output_type": "stream",
     "text": [
      "Fitting 3 folds for each of 20 candidates, totalling 60 fits\n"
     ]
    },
    {
     "name": "stderr",
     "output_type": "stream",
     "text": [
      "[Parallel(n_jobs=-1)]: Using backend LokyBackend with 4 concurrent workers.\n",
      "[Parallel(n_jobs=-1)]: Done  33 tasks      | elapsed: 35.1min\n",
      "[Parallel(n_jobs=-1)]: Done  60 out of  60 | elapsed: 231.4min finished\n"
     ]
    },
    {
     "data": {
      "text/plain": [
       "RandomizedSearchCV(cv=3, error_score='raise-deprecating',\n",
       "          estimator=RandomForestClassifier(bootstrap=True, class_weight=None, criterion='gini',\n",
       "            max_depth=None, max_features='auto', max_leaf_nodes=None,\n",
       "            min_impurity_decrease=0.0, min_impurity_split=None,\n",
       "            min_samples_leaf=1, min_samples_split=2,\n",
       "            min_weight_fraction_leaf=0.0, n_estimators='warn', n_jobs=None,\n",
       "            oob_score=False, random_state=None, verbose=0,\n",
       "            warm_start=False),\n",
       "          fit_params=None, iid='warn', n_iter=20, n_jobs=-1,\n",
       "          param_distributions={'n_estimators': [500, 600, 700, 800], 'max_features': ['auto', 'sqrt'], 'max_depth': [10, 20, 30, 40, 50, None], 'min_samples_split': [2, 5, 10], 'min_samples_leaf': [1, 2, 4]},\n",
       "          pre_dispatch='2*n_jobs', random_state=1, refit=True,\n",
       "          return_train_score='warn', scoring=None, verbose=2)"
      ]
     },
     "execution_count": 100,
     "metadata": {},
     "output_type": "execute_result"
    }
   ],
   "source": [
    "from sklearn.ensemble import RandomForestClassifier\n",
    "rf = RandomForestClassifier()\n",
    "# Random search of parameters, using 3 fold cross validation, \n",
    "# search across 100 different combinations, and use all available cores\n",
    "rf_random = RandomizedSearchCV(estimator = rf, param_distributions = random_grid, n_iter = 20, cv = 3, verbose=2, random_state=1, n_jobs = -1)\n",
    "# Fit the random search model\n",
    "rf_random.fit(train_X,train_y)"
   ]
  },
  {
   "cell_type": "code",
   "execution_count": 103,
   "metadata": {},
   "outputs": [
    {
     "data": {
      "text/plain": [
       "{'n_estimators': 800,\n",
       " 'min_samples_split': 5,\n",
       " 'min_samples_leaf': 1,\n",
       " 'max_features': 'auto',\n",
       " 'max_depth': 50}"
      ]
     },
     "execution_count": 103,
     "metadata": {},
     "output_type": "execute_result"
    }
   ],
   "source": [
    "rf_random_best = rf_random.best_params_\n",
    "\n",
    "rf_random_best"
   ]
  },
  {
   "cell_type": "code",
   "execution_count": null,
   "metadata": {},
   "outputs": [],
   "source": [
    "{'n_estimators': 800,\n",
    " 'min_samples_split': 5,\n",
    " 'min_samples_leaf': 1,\n",
    " 'max_features': 'auto',\n",
    " 'max_depth': 50}"
   ]
  },
  {
   "cell_type": "code",
   "execution_count": 106,
   "metadata": {},
   "outputs": [],
   "source": [
    "rfcv = RandomForestClassifier(n_estimators=800,min_samples_split=5,min_samples_leaf=1,max_features='auto',max_depth=50)\n",
    "\n",
    "rfcv.fit(train_X,train_y)"
   ]
  },
  {
   "cell_type": "code",
   "execution_count": 128,
   "metadata": {},
   "outputs": [],
   "source": [
    "predict = rfcv.predict(train_X)"
   ]
  },
  {
   "cell_type": "code",
   "execution_count": 131,
   "metadata": {},
   "outputs": [],
   "source": [
    "# print(predict)\n",
    "predictdf = pd.DataFrame(predict)\n",
    "\n",
    "# predictdf['0']\n",
    "resultsdf = pd.DataFrame({'Train Label':train_y,'Predicted Label':predictdf[0]})"
   ]
  },
  {
   "cell_type": "code",
   "execution_count": 132,
   "metadata": {},
   "outputs": [
    {
     "name": "stdout",
     "output_type": "stream",
     "text": [
      "1.0 1.0\n"
     ]
    }
   ],
   "source": [
    "from sklearn.metrics import roc_auc_score\n",
    "auc = roc_auc_score(resultsdf['Train Label'],resultsdf['Predicted Label'])\n",
    "\n",
    "from sklearn.metrics import average_precision_score\n",
    "precision  = average_precision_score(resultsdf['Train Label'],resultsdf['Predicted Label'])\n",
    "\n",
    "print(auc,precision)"
   ]
  },
  {
   "cell_type": "code",
   "execution_count": 133,
   "metadata": {},
   "outputs": [
    {
     "data": {
      "text/plain": [
       "1.0"
      ]
     },
     "execution_count": 133,
     "metadata": {},
     "output_type": "execute_result"
    }
   ],
   "source": [
    "rfcv.score(train_X,predictdf[0])"
   ]
  },
  {
   "cell_type": "markdown",
   "metadata": {},
   "source": [
    "### Test values\n"
   ]
  },
  {
   "cell_type": "code",
   "execution_count": 188,
   "metadata": {},
   "outputs": [],
   "source": [
    "#convert string currency to float\n",
    "test.x41= test.x41.str.strip('$').astype(float)\n",
    "type(test.x45[0])\n",
    "\n",
    "test.x45 = test.x45.str.strip('%')\n",
    "test.x45 = test.x45.astype(float)\n",
    "test.x45.isnull().sum()\n",
    "\n",
    "#correct mispellings\n",
    "test['x34'].replace(to_replace='mercades',value='mercedes',inplace=True)\n",
    "test.x34 = test['x34'].str.lower()\n",
    "\n",
    "\n",
    "#brute force method\n",
    "test[test.x35.isnull()]\n",
    "\n",
    "test.x35.replace('wed','wednesday',inplace=True)\n",
    "test.x35.replace('fri','friday',inplace=True)\n",
    "test.x35.replace('thur','thursday',inplace=True)\n",
    "test.x35.replace('thurday','thursday',inplace=True)\n",
    "\n",
    "#UDF method -- much easier\n",
    "def clean(original,new):\n",
    "    test.x68.replace(original,new,inplace=True)\n",
    "\n",
    "dict = { 'sept.':'sep','july':'jul','january':'jan','dev':'dec'}\n",
    "\n",
    "for key,value in dict.items():\n",
    "    clean(key,value)\n",
    "    "
   ]
  },
  {
   "cell_type": "code",
   "execution_count": 190,
   "metadata": {},
   "outputs": [],
   "source": [
    "#ensure missing values are properly encoded as NaN\n",
    "test.fillna(value=np.nan)\n",
    "test_numeric = test.drop(labels = ['x34','x35','x68','x93'],axis=1)\n",
    "\n",
    "#impute missing values with median, ranges on columns are not very large and have dont have much variance\n",
    "\n",
    "from sklearn.impute import SimpleImputer\n",
    "imp_median = SimpleImputer(missing_values=np.nan, strategy='median')\n",
    "\n",
    "test_numeric_imp = pd.DataFrame(imp_median.fit_transform(test_numeric))\n",
    "\n",
    "\n",
    "\n",
    "col_old = test_numeric_imp.columns.values.tolist()\n",
    "col_new = test_numeric.columns.tolist()\n",
    "\n",
    "#list/dictionary complication\n",
    "col_names = {i: j for i, j in zip(col_old,col_new)}\n",
    "\n",
    "test_numeric_imp = test_numeric_imp.rename(mapper=col_names,axis=1)\n",
    "\n",
    "\n",
    "#readding categorical variables to imputed df\n",
    "test_numeric_imp['x34'] = test['x34']\n",
    "test_numeric_imp['x35'] = test['x35']\n",
    "test_numeric_imp['x68'] = test['x68']\n",
    "test_numeric_imp['x93'] = test['x93']\n",
    "\n",
    "test_X = test_numeric_imp\n",
    "\n",
    "#filled with mode \n",
    "for col in test_X.columns:\n",
    "    if(test_X[col].dtype == 'object'):\n",
    "        test_X[col]= test_X[col].fillna(test_X[col].mode()[0])\n",
    "\n",
    "\n",
    "\n",
    "#code categorical variables to numeric to allow algorithms to include these variables\n",
    "for col in test_X.columns:\n",
    "    if(test_X[col].dtype == 'object'):\n",
    "        test_X[col]= test_X[col].astype('category')\n",
    "        test_X[col] = test_X[col].cat.codes"
   ]
  },
  {
   "cell_type": "code",
   "execution_count": 198,
   "metadata": {},
   "outputs": [],
   "source": [
    "test_logit = pd.DataFrame(logit.predict_proba(test_X))\n",
    "\n",
    "test_logit[1].to_csv('results/results1.csv',index=False,sep=',',header='y')"
   ]
  },
  {
   "cell_type": "code",
   "execution_count": 199,
   "metadata": {},
   "outputs": [],
   "source": [
    "test_rfclf = pd.DataFrame(rfcv.predict_proba(test_X))\n",
    "\n",
    "test_rfclf[1].to_csv('results/results2.csv',index=False,sep=',',header='y')"
   ]
  }
 ],
 "metadata": {
  "kernelspec": {
   "display_name": "Python 3",
   "language": "python",
   "name": "python3"
  },
  "language_info": {
   "codemirror_mode": {
    "name": "ipython",
    "version": 3
   },
   "file_extension": ".py",
   "mimetype": "text/x-python",
   "name": "python",
   "nbconvert_exporter": "python",
   "pygments_lexer": "ipython3",
   "version": "3.7.0"
  }
 },
 "nbformat": 4,
 "nbformat_minor": 2
}
